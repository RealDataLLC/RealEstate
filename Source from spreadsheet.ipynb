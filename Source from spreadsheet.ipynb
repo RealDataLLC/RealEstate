{
 "cells": [
  {
   "cell_type": "code",
   "execution_count": 3,
   "id": "34eafdfc-0970-442f-9c53-06a6e16bba4e",
   "metadata": {},
   "outputs": [],
   "source": [
    "import pandas as pd\n",
    "\n",
    "import gspread\n",
    "from oauth2client.service_account import ServiceAccountCredentials\n",
    "\n",
    "from bs4 import BeautifulSoup"
   ]
  },
  {
   "cell_type": "code",
   "execution_count": null,
   "id": "2262afbb-cb00-46f6-983c-8d89342176c3",
   "metadata": {},
   "outputs": [],
   "source": [
    "def initialize_spreadsheet(spreadsheet_name):\n",
    "    # use creds to create a client to interact with the Google Drive API\n",
    "    scope = ['https://spreadsheets.google.com/feeds',\n",
    "             'https://www.googleapis.com/auth/drive']\n",
    "    creds = ServiceAccountCredentials.from_json_keyfile_name('client_secret.json', scope)\n",
    "    client = gspread.authorize(creds)\n",
    "\n",
    "    # Find a workbook by name and open the first sheet\n",
    "    # Make sure you use the right name here.\n",
    "    sheet = client.open(spreadsheet_name).sheet1\n",
    "    return sheet\n",
    "initialize_spreadsheet(\"GOBUNDANCE MEMBERS\")"
   ]
  },
  {
   "cell_type": "code",
   "execution_count": 9,
   "id": "5e788c77-739d-4c0e-ade8-25bacb6df8f5",
   "metadata": {},
   "outputs": [],
   "source": [
    "source_name = \"Documents/GitHub/RealEstate/GoBundance - Grab Life Big.html\"\n",
    "\n",
    "soup = BeautifulSoup(SOURCE_CODE, \"html.parser\")"
   ]
  },
  {
   "cell_type": "code",
   "execution_count": null,
   "id": "da4a7a5e-9e3f-4e23-949a-f950abe8dc74",
   "metadata": {},
   "outputs": [],
   "source": []
  }
 ],
 "metadata": {
  "kernelspec": {
   "display_name": "Python 3 (ipykernel)",
   "language": "python",
   "name": "python3"
  },
  "language_info": {
   "codemirror_mode": {
    "name": "ipython",
    "version": 3
   },
   "file_extension": ".py",
   "mimetype": "text/x-python",
   "name": "python",
   "nbconvert_exporter": "python",
   "pygments_lexer": "ipython3",
   "version": "3.8.2"
  }
 },
 "nbformat": 4,
 "nbformat_minor": 5
}
