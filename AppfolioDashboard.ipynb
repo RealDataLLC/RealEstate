{
 "cells": [
  {
   "cell_type": "markdown",
   "id": "fdc10059-eb2e-41d1-b9d5-30fd7a31f9a4",
   "metadata": {},
   "source": [
    "\"\"\"\"\n",
    "\n",
    "1. Tried pulling directly from the website source api, got my ass kicked\n",
    "2. Skywalk API is working and they fixed some requests\n",
    "3. Testing dashboard combined with Apartments.com data-puller\n",
    "\n",
    "\"\"\"\""
   ]
  },
  {
   "cell_type": "code",
   "execution_count": 1,
   "id": "1c7616fa-d606-49e2-83f0-1a1fe76d0b90",
   "metadata": {},
   "outputs": [],
   "source": [
    "import requests\n",
    "from bs4 import BeautifulSoup\n",
    "import json\n",
    "\n",
    "appfolio_api_key = \"wc9DeJ9UHoJKkEsgr9CN4W.8AnBp5DgrPE2HNdNMQ1HxwDlBkJnYRZDyGvletEznkE\"\n",
    "payload = {\"X-API-KEY\" : appfolio_api_key}\n",
    "params = { \"search\": \"?propertyId=51\"}\n",
    "r = requests.get('https://api.skywalkapi.com/v1/balance-sheet', headers=payload, params = params)\n",
    "r.raise_for_status()"
   ]
  },
  {
   "cell_type": "code",
   "execution_count": 2,
   "id": "8a64aec5-9477-420e-bee4-d30ef9367f0f",
   "metadata": {},
   "outputs": [
    {
     "data": {
      "text/plain": [
       "{'meta': {'status': 'updating',\n",
       "  'path': '/v1/balance-sheet',\n",
       "  'lastUpdated': None,\n",
       "  'jobId': 'ff3a9408-efb8-4e87-81ce-a2c1a8718a27',\n",
       "  'query': {'accounting': 'cash', 'date': '02/15/2022'}}}"
      ]
     },
     "execution_count": 2,
     "metadata": {},
     "output_type": "execute_result"
    }
   ],
   "source": [
    "json.loads(r.content)"
   ]
  },
  {
   "cell_type": "markdown",
   "id": "4c09f923-4682-4ebf-892e-1a35a3b94d12",
   "metadata": {},
   "source": [
    "# Dashboard"
   ]
  },
  {
   "cell_type": "code",
   "execution_count": 3,
   "id": "5a149164-dc61-461e-8d39-dc6eef443912",
   "metadata": {},
   "outputs": [
    {
     "ename": "NameError",
     "evalue": "name 'csv' is not defined",
     "output_type": "error",
     "traceback": [
      "\u001b[0;31m---------------------------------------------------------------------------\u001b[0m",
      "\u001b[0;31mNameError\u001b[0m                                 Traceback (most recent call last)",
      "\u001b[0;32m/var/folders/2x/1y29_dkx10zcpzr8lh9g1w_h0000gn/T/ipykernel_7545/911613736.py\u001b[0m in \u001b[0;36m<module>\u001b[0;34m\u001b[0m\n\u001b[1;32m      8\u001b[0m \u001b[0mbb\u001b[0m \u001b[0;34m=\u001b[0m \u001b[0;34m\"xtqrw9_u9Isz8svW\"\u001b[0m\u001b[0;34m\u001b[0m\u001b[0;34m\u001b[0m\u001b[0m\n\u001b[1;32m      9\u001b[0m \u001b[0;31m# pull the same code everytime but for San Marco\u001b[0m\u001b[0;34m\u001b[0m\u001b[0;34m\u001b[0m\u001b[0;34m\u001b[0m\u001b[0m\n\u001b[0;32m---> 10\u001b[0;31m \u001b[0mApartmentsScraperHelper\u001b[0m\u001b[0;34m.\u001b[0m\u001b[0mmain\u001b[0m\u001b[0;34m(\u001b[0m\u001b[0mbb\u001b[0m \u001b[0;34m=\u001b[0m \u001b[0mbb\u001b[0m\u001b[0;34m)\u001b[0m\u001b[0;34m\u001b[0m\u001b[0;34m\u001b[0m\u001b[0m\n\u001b[0m\u001b[1;32m     11\u001b[0m \u001b[0;34m\u001b[0m\u001b[0m\n\u001b[1;32m     12\u001b[0m \u001b[0mpd\u001b[0m\u001b[0;34m.\u001b[0m\u001b[0mread_csv\u001b[0m\u001b[0;34m(\u001b[0m\u001b[0mbb\u001b[0m\u001b[0;34m+\u001b[0m\u001b[0;34m\".csv\"\u001b[0m\u001b[0;34m)\u001b[0m\u001b[0;34m\u001b[0m\u001b[0;34m\u001b[0m\u001b[0m\n",
      "\u001b[0;32m~/Documents/GitHub/RealEstate/ApartmentsScraperHelper.py\u001b[0m in \u001b[0;36mmain\u001b[0;34m(bb)\u001b[0m\n\u001b[1;32m     31\u001b[0m     ]\n\u001b[1;32m     32\u001b[0m     \u001b[0;32mwith\u001b[0m \u001b[0mopen\u001b[0m\u001b[0;34m(\u001b[0m\u001b[0mfilename\u001b[0m\u001b[0;34m,\u001b[0m \u001b[0;34m\"a+\"\u001b[0m\u001b[0;34m)\u001b[0m \u001b[0;32mas\u001b[0m \u001b[0mf\u001b[0m\u001b[0;34m:\u001b[0m\u001b[0;34m\u001b[0m\u001b[0;34m\u001b[0m\u001b[0m\n\u001b[0;32m---> 33\u001b[0;31m         \u001b[0mwriter\u001b[0m \u001b[0;34m=\u001b[0m \u001b[0mcsv\u001b[0m\u001b[0;34m.\u001b[0m\u001b[0mDictWriter\u001b[0m\u001b[0;34m(\u001b[0m\u001b[0mf\u001b[0m\u001b[0;34m,\u001b[0m \u001b[0mfieldnames\u001b[0m\u001b[0;34m=\u001b[0m\u001b[0mfieldnames\u001b[0m\u001b[0;34m)\u001b[0m\u001b[0;34m\u001b[0m\u001b[0;34m\u001b[0m\u001b[0m\n\u001b[0m\u001b[1;32m     34\u001b[0m         \u001b[0mwriter\u001b[0m\u001b[0;34m.\u001b[0m\u001b[0mwriteheader\u001b[0m\u001b[0;34m(\u001b[0m\u001b[0;34m)\u001b[0m\u001b[0;34m\u001b[0m\u001b[0;34m\u001b[0m\u001b[0m\n\u001b[1;32m     35\u001b[0m \u001b[0;34m\u001b[0m\u001b[0m\n",
      "\u001b[0;31mNameError\u001b[0m: name 'csv' is not defined"
     ]
    }
   ],
   "source": [
    "import requests\n",
    "from bs4 import BeautifulSoup\n",
    "import csv\n",
    "import time\n",
    "\n",
    "import ApartmentsScraperHelper\n",
    "\n",
    "bb = \"xtqrw9_u9Isz8svW\"\n",
    "# pull the same code everytime but for San Marco\n",
    "ApartmentsScraperHelper.main(bb = bb)\n",
    "\n",
    "pd.read_csv(bb+\".csv\")"
   ]
  },
  {
   "cell_type": "code",
   "execution_count": 1,
   "id": "95b3fc67-0639-4b1b-a09e-13ec29ceeeff",
   "metadata": {},
   "outputs": [
    {
     "data": {
      "text/html": [
       "<div>\n",
       "<style scoped>\n",
       "    .dataframe tbody tr th:only-of-type {\n",
       "        vertical-align: middle;\n",
       "    }\n",
       "\n",
       "    .dataframe tbody tr th {\n",
       "        vertical-align: top;\n",
       "    }\n",
       "\n",
       "    .dataframe thead th {\n",
       "        text-align: right;\n",
       "    }\n",
       "</style>\n",
       "<table border=\"1\" class=\"dataframe\">\n",
       "  <thead>\n",
       "    <tr style=\"text-align: right;\">\n",
       "      <th></th>\n",
       "      <th>RegionName</th>\n",
       "      <th>2014-01</th>\n",
       "      <th>2014-02</th>\n",
       "      <th>2014-03</th>\n",
       "      <th>2014-04</th>\n",
       "      <th>2014-05</th>\n",
       "      <th>2014-06</th>\n",
       "      <th>2014-07</th>\n",
       "      <th>2014-08</th>\n",
       "      <th>2014-09</th>\n",
       "      <th>...</th>\n",
       "      <th>2021-04</th>\n",
       "      <th>2021-05</th>\n",
       "      <th>2021-06</th>\n",
       "      <th>2021-07</th>\n",
       "      <th>2021-08</th>\n",
       "      <th>2021-09</th>\n",
       "      <th>2021-10</th>\n",
       "      <th>2021-11</th>\n",
       "      <th>2021-12</th>\n",
       "      <th>2022-01</th>\n",
       "    </tr>\n",
       "  </thead>\n",
       "  <tbody>\n",
       "    <tr>\n",
       "      <th>0</th>\n",
       "      <td>United States</td>\n",
       "      <td>1294.0</td>\n",
       "      <td>1299</td>\n",
       "      <td>1305.0</td>\n",
       "      <td>1310</td>\n",
       "      <td>1315</td>\n",
       "      <td>1321</td>\n",
       "      <td>1326</td>\n",
       "      <td>1331</td>\n",
       "      <td>1337</td>\n",
       "      <td>...</td>\n",
       "      <td>1708</td>\n",
       "      <td>1729</td>\n",
       "      <td>1750</td>\n",
       "      <td>1771</td>\n",
       "      <td>1793</td>\n",
       "      <td>1815.0</td>\n",
       "      <td>1837.0</td>\n",
       "      <td>1859</td>\n",
       "      <td>1881</td>\n",
       "      <td>1904</td>\n",
       "    </tr>\n",
       "    <tr>\n",
       "      <th>1</th>\n",
       "      <td>New York, NY</td>\n",
       "      <td>2256.0</td>\n",
       "      <td>2266</td>\n",
       "      <td>2276.0</td>\n",
       "      <td>2286</td>\n",
       "      <td>2296</td>\n",
       "      <td>2306</td>\n",
       "      <td>2316</td>\n",
       "      <td>2326</td>\n",
       "      <td>2336</td>\n",
       "      <td>...</td>\n",
       "      <td>2526</td>\n",
       "      <td>2556</td>\n",
       "      <td>2586</td>\n",
       "      <td>2617</td>\n",
       "      <td>2648</td>\n",
       "      <td>2680.0</td>\n",
       "      <td>2712.0</td>\n",
       "      <td>2746</td>\n",
       "      <td>2780</td>\n",
       "      <td>2814</td>\n",
       "    </tr>\n",
       "    <tr>\n",
       "      <th>2</th>\n",
       "      <td>Los Angeles-Long Beach-Anaheim, CA</td>\n",
       "      <td>1792.0</td>\n",
       "      <td>1803</td>\n",
       "      <td>1814.0</td>\n",
       "      <td>1825</td>\n",
       "      <td>1835</td>\n",
       "      <td>1846</td>\n",
       "      <td>1857</td>\n",
       "      <td>1868</td>\n",
       "      <td>1878</td>\n",
       "      <td>...</td>\n",
       "      <td>2497</td>\n",
       "      <td>2524</td>\n",
       "      <td>2550</td>\n",
       "      <td>2577</td>\n",
       "      <td>2604</td>\n",
       "      <td>2631.0</td>\n",
       "      <td>2659.0</td>\n",
       "      <td>2687</td>\n",
       "      <td>2716</td>\n",
       "      <td>2744</td>\n",
       "    </tr>\n",
       "    <tr>\n",
       "      <th>3</th>\n",
       "      <td>Chicago, IL</td>\n",
       "      <td>1411.0</td>\n",
       "      <td>1415</td>\n",
       "      <td>1419.0</td>\n",
       "      <td>1423</td>\n",
       "      <td>1426</td>\n",
       "      <td>1430</td>\n",
       "      <td>1433</td>\n",
       "      <td>1437</td>\n",
       "      <td>1440</td>\n",
       "      <td>...</td>\n",
       "      <td>1649</td>\n",
       "      <td>1662</td>\n",
       "      <td>1675</td>\n",
       "      <td>1688</td>\n",
       "      <td>1702</td>\n",
       "      <td>1716.0</td>\n",
       "      <td>1729.0</td>\n",
       "      <td>1744</td>\n",
       "      <td>1758</td>\n",
       "      <td>1772</td>\n",
       "    </tr>\n",
       "    <tr>\n",
       "      <th>4</th>\n",
       "      <td>Dallas-Fort Worth, TX</td>\n",
       "      <td>1128.0</td>\n",
       "      <td>1132</td>\n",
       "      <td>1135.0</td>\n",
       "      <td>1139</td>\n",
       "      <td>1143</td>\n",
       "      <td>1146</td>\n",
       "      <td>1150</td>\n",
       "      <td>1154</td>\n",
       "      <td>1157</td>\n",
       "      <td>...</td>\n",
       "      <td>1534</td>\n",
       "      <td>1556</td>\n",
       "      <td>1578</td>\n",
       "      <td>1600</td>\n",
       "      <td>1622</td>\n",
       "      <td>1645.0</td>\n",
       "      <td>1667.0</td>\n",
       "      <td>1690</td>\n",
       "      <td>1714</td>\n",
       "      <td>1737</td>\n",
       "    </tr>\n",
       "  </tbody>\n",
       "</table>\n",
       "<p>5 rows × 98 columns</p>\n",
       "</div>"
      ],
      "text/plain": [
       "                           RegionName  2014-01  2014-02  2014-03  2014-04  \\\n",
       "0                       United States   1294.0     1299   1305.0     1310   \n",
       "1                        New York, NY   2256.0     2266   2276.0     2286   \n",
       "2  Los Angeles-Long Beach-Anaheim, CA   1792.0     1803   1814.0     1825   \n",
       "3                         Chicago, IL   1411.0     1415   1419.0     1423   \n",
       "4               Dallas-Fort Worth, TX   1128.0     1132   1135.0     1139   \n",
       "\n",
       "   2014-05  2014-06  2014-07  2014-08  2014-09  ...  2021-04  2021-05  \\\n",
       "0     1315     1321     1326     1331     1337  ...     1708     1729   \n",
       "1     2296     2306     2316     2326     2336  ...     2526     2556   \n",
       "2     1835     1846     1857     1868     1878  ...     2497     2524   \n",
       "3     1426     1430     1433     1437     1440  ...     1649     1662   \n",
       "4     1143     1146     1150     1154     1157  ...     1534     1556   \n",
       "\n",
       "   2021-06  2021-07  2021-08  2021-09  2021-10  2021-11  2021-12  2022-01  \n",
       "0     1750     1771     1793   1815.0   1837.0     1859     1881     1904  \n",
       "1     2586     2617     2648   2680.0   2712.0     2746     2780     2814  \n",
       "2     2550     2577     2604   2631.0   2659.0     2687     2716     2744  \n",
       "3     1675     1688     1702   1716.0   1729.0     1744     1758     1772  \n",
       "4     1578     1600     1622   1645.0   1667.0     1690     1714     1737  \n",
       "\n",
       "[5 rows x 98 columns]"
      ]
     },
     "execution_count": 1,
     "metadata": {},
     "output_type": "execute_result"
    }
   ],
   "source": [
    "import plotly.express as px\n",
    "from jupyter_dash import JupyterDash\n",
    "from dash import Input, Output, dcc, html\n",
    "import pandas as pd\n",
    "\n",
    "#zillow rent data\n",
    "df = pd.read_csv(\"https://files.zillowstatic.com/research/public_csvs/zori/Metro_ZORI_AllHomesPlusMultifamily_SSA.csv?t=1644973146\")\n",
    "df.drop(columns= [\"RegionID\", \"SizeRank\"], inplace=True)\n",
    "df.head()"
   ]
  },
  {
   "cell_type": "code",
   "execution_count": 14,
   "id": "525bfe84-df32-4fe2-9514-134e98c0a22d",
   "metadata": {},
   "outputs": [
    {
     "data": {
      "text/html": [
       "<div>\n",
       "<style scoped>\n",
       "    .dataframe tbody tr th:only-of-type {\n",
       "        vertical-align: middle;\n",
       "    }\n",
       "\n",
       "    .dataframe tbody tr th {\n",
       "        vertical-align: top;\n",
       "    }\n",
       "\n",
       "    .dataframe thead th {\n",
       "        text-align: right;\n",
       "    }\n",
       "</style>\n",
       "<table border=\"1\" class=\"dataframe\">\n",
       "  <thead>\n",
       "    <tr style=\"text-align: right;\">\n",
       "      <th></th>\n",
       "      <th>RegionName</th>\n",
       "      <th>Date</th>\n",
       "      <th>ZRent</th>\n",
       "    </tr>\n",
       "  </thead>\n",
       "  <tbody>\n",
       "    <tr>\n",
       "      <th>0</th>\n",
       "      <td>United States</td>\n",
       "      <td>2014-01</td>\n",
       "      <td>1294.0</td>\n",
       "    </tr>\n",
       "    <tr>\n",
       "      <th>1</th>\n",
       "      <td>United States</td>\n",
       "      <td>2014-02</td>\n",
       "      <td>1299.0</td>\n",
       "    </tr>\n",
       "    <tr>\n",
       "      <th>2</th>\n",
       "      <td>United States</td>\n",
       "      <td>2014-03</td>\n",
       "      <td>1305.0</td>\n",
       "    </tr>\n",
       "    <tr>\n",
       "      <th>3</th>\n",
       "      <td>United States</td>\n",
       "      <td>2014-04</td>\n",
       "      <td>1310.0</td>\n",
       "    </tr>\n",
       "    <tr>\n",
       "      <th>4</th>\n",
       "      <td>United States</td>\n",
       "      <td>2014-05</td>\n",
       "      <td>1315.0</td>\n",
       "    </tr>\n",
       "    <tr>\n",
       "      <th>...</th>\n",
       "      <td>...</td>\n",
       "      <td>...</td>\n",
       "      <td>...</td>\n",
       "    </tr>\n",
       "    <tr>\n",
       "      <th>9880</th>\n",
       "      <td>College Station TX</td>\n",
       "      <td>2021-09</td>\n",
       "      <td>1524.0</td>\n",
       "    </tr>\n",
       "    <tr>\n",
       "      <th>9881</th>\n",
       "      <td>College Station TX</td>\n",
       "      <td>2021-10</td>\n",
       "      <td>1532.0</td>\n",
       "    </tr>\n",
       "    <tr>\n",
       "      <th>9882</th>\n",
       "      <td>College Station TX</td>\n",
       "      <td>2021-11</td>\n",
       "      <td>1541.0</td>\n",
       "    </tr>\n",
       "    <tr>\n",
       "      <th>9883</th>\n",
       "      <td>College Station TX</td>\n",
       "      <td>2021-12</td>\n",
       "      <td>1550.0</td>\n",
       "    </tr>\n",
       "    <tr>\n",
       "      <th>9884</th>\n",
       "      <td>College Station TX</td>\n",
       "      <td>2022-01</td>\n",
       "      <td>1558.0</td>\n",
       "    </tr>\n",
       "  </tbody>\n",
       "</table>\n",
       "<p>9885 rows × 3 columns</p>\n",
       "</div>"
      ],
      "text/plain": [
       "              RegionName     Date   ZRent\n",
       "0          United States  2014-01  1294.0\n",
       "1          United States  2014-02  1299.0\n",
       "2          United States  2014-03  1305.0\n",
       "3          United States  2014-04  1310.0\n",
       "4          United States  2014-05  1315.0\n",
       "...                  ...      ...     ...\n",
       "9880  College Station TX  2021-09  1524.0\n",
       "9881  College Station TX  2021-10  1532.0\n",
       "9882  College Station TX  2021-11  1541.0\n",
       "9883  College Station TX  2021-12  1550.0\n",
       "9884  College Station TX  2022-01  1558.0\n",
       "\n",
       "[9885 rows x 3 columns]"
      ]
     },
     "execution_count": 14,
     "metadata": {},
     "output_type": "execute_result"
    }
   ],
   "source": [
    "reframe_df = pd.DataFrame(df.set_index(\"RegionName\").stack()).reset_index()\n",
    "reframe_df.columns = [\"RegionName\", \"Date\", \"ZRent\"]\n",
    "reframe_df.RegionName = reframe_df.RegionName.str.replace(\",\", \"\")\n",
    "reframe_df"
   ]
  },
  {
   "cell_type": "code",
   "execution_count": 15,
   "id": "1471a700-3899-4455-8dd2-96ea468cf722",
   "metadata": {
    "tags": []
   },
   "outputs": [
    {
     "name": "stderr",
     "output_type": "stream",
     "text": [
      "/Users/nelsonlin/Desktop/AYPOClicker/lib/python3.8/site-packages/jupyter_dash/jupyter_app.py:139: UserWarning:\n",
      "\n",
      "The 'environ['werkzeug.server.shutdown']' function is deprecated and will be removed in Werkzeug 2.1.\n",
      "\n",
      "127.0.0.1 - - [15/Feb/2022 18:00:58] \"GET /_shutdown_31d202e5-dd8e-44e4-bd31-85cf65100c86 HTTP/1.1\" 200 -\n",
      " * Running on http://127.0.0.1:8052/ (Press CTRL+C to quit)\n",
      "127.0.0.1 - - [15/Feb/2022 18:00:59] \"GET /_alive_31d202e5-dd8e-44e4-bd31-85cf65100c86 HTTP/1.1\" 200 -\n"
     ]
    },
    {
     "name": "stdout",
     "output_type": "stream",
     "text": [
      "Dash app running on http://127.0.0.1:8052/\n"
     ]
    },
    {
     "name": "stderr",
     "output_type": "stream",
     "text": [
      "127.0.0.1 - - [15/Feb/2022 18:01:00] \"GET / HTTP/1.1\" 200 -\n",
      "127.0.0.1 - - [15/Feb/2022 18:01:00] \"GET /_dash-layout HTTP/1.1\" 200 -\n",
      "127.0.0.1 - - [15/Feb/2022 18:01:00] \"GET /_dash-dependencies HTTP/1.1\" 200 -\n",
      "127.0.0.1 - - [15/Feb/2022 18:01:00] \"\u001b[36mGET /_dash-component-suites/dash/dcc/async-dropdown.js HTTP/1.1\u001b[0m\" 304 -\n",
      "127.0.0.1 - - [15/Feb/2022 18:01:00] \"\u001b[36mGET /_dash-component-suites/dash/dcc/async-graph.js HTTP/1.1\u001b[0m\" 304 -\n",
      "127.0.0.1 - - [15/Feb/2022 18:01:00] \"\u001b[36mGET /_dash-component-suites/dash/dcc/async-plotlyjs.js HTTP/1.1\u001b[0m\" 304 -\n",
      "127.0.0.1 - - [15/Feb/2022 18:01:00] \"POST /_dash-update-component HTTP/1.1\" 200 -\n"
     ]
    },
    {
     "name": "stdout",
     "output_type": "stream",
     "text": [
      "selected_cities ['United States', 'Jacksonville FL']\n"
     ]
    },
    {
     "name": "stderr",
     "output_type": "stream",
     "text": [
      "127.0.0.1 - - [15/Feb/2022 18:01:03] \"POST /_dash-update-component HTTP/1.1\" 200 -\n"
     ]
    },
    {
     "name": "stdout",
     "output_type": "stream",
     "text": [
      "selected_cities ['United States', 'Jacksonville FL', 'New York NY']\n"
     ]
    },
    {
     "name": "stderr",
     "output_type": "stream",
     "text": [
      "127.0.0.1 - - [15/Feb/2022 18:01:06] \"POST /_dash-update-component HTTP/1.1\" 200 -\n"
     ]
    },
    {
     "name": "stdout",
     "output_type": "stream",
     "text": [
      "selected_cities ['United States', 'Jacksonville FL', 'New York NY', 'Philadelphia PA']\n"
     ]
    }
   ],
   "source": [
    "### Multiselect functionality\n",
    "\"\"\"\"\n",
    "NO COMMAS, messes up dropdown for some reason\n",
    "\"\"\"\"\n",
    "\n",
    "app = JupyterDash(__name__)\n",
    "del app.config._read_only[\"requests_pathname_prefix\"]\n",
    "\n",
    "app.layout = html.Div([\n",
    "    html.Div(children=[\n",
    "        \n",
    "        html.Br(),\n",
    "        html.Label('Pick Cities to compare'),\n",
    "        dcc.Dropdown(options = reframe_df.RegionName.unique(),\n",
    "                     value = [\"United States\", \"Jacksonville FL\"],\n",
    "                     multi=True, \n",
    "                     id=\"cities_to_graph\"),\n",
    "       \n",
    "    ]),\n",
    "    \n",
    "    html.Div(children=[\n",
    "        \n",
    "        html.Br(),\n",
    "        html.Label('Graph of ZRents'),\n",
    "\n",
    "        dcc.Graph(\n",
    "            id='Zrent',\n",
    "        )]\n",
    "                  )])\n",
    "@app.callback(\n",
    "    Output('Zrent', 'figure'),\n",
    "    Input('cities_to_graph', 'value'))\n",
    "\n",
    "def update_figure(selected_cities):\n",
    "    \n",
    "    print(\"selected_cities\", selected_cities)\n",
    "    if not selected_cities:\n",
    "        selected_cities = [\"United States\"]\n",
    "        \n",
    "    filtered_df = reframe_df[reframe_df.RegionName.isin(selected_cities)]   \n",
    "    fig = px.scatter(filtered_df, x=\"Date\", y=\"ZRent\", color=\"RegionName\", hover_name=\"RegionName\")\n",
    "\n",
    "    fig.update_layout(transition_duration=500)\n",
    "\n",
    "    return fig\n",
    "    \n",
    "if __name__ == '__main__':\n",
    "    app.run_server(debug=False)"
   ]
  },
  {
   "cell_type": "markdown",
   "id": "3d7be1da-7ecd-4c5e-b339-58d1566be361",
   "metadata": {},
   "source": [
    "### Add apartment list too"
   ]
  },
  {
   "cell_type": "code",
   "execution_count": 2,
   "id": "81d75a5a-0077-4d02-b7bf-9b0a356f657b",
   "metadata": {},
   "outputs": [
    {
     "name": "stderr",
     "output_type": "stream",
     "text": [
      " * Running on http://127.0.0.1:8050/ (Press CTRL+C to quit)\n",
      "127.0.0.1 - - [18/Feb/2022 16:58:39] \"GET /_alive_da31f8aa-6e51-4ee1-8bca-1aa3547d40bb HTTP/1.1\" 200 -\n"
     ]
    },
    {
     "name": "stdout",
     "output_type": "stream",
     "text": [
      "Dash app running on http://127.0.0.1:8050/\n"
     ]
    },
    {
     "name": "stderr",
     "output_type": "stream",
     "text": [
      "127.0.0.1 - - [18/Feb/2022 16:58:50] \"GET / HTTP/1.1\" 200 -\n",
      "127.0.0.1 - - [18/Feb/2022 16:58:50] \"GET /_dash-component-suites/dash/deps/react@16.v2_1_0m1644801654.14.0.min.js HTTP/1.1\" 200 -\n",
      "127.0.0.1 - - [18/Feb/2022 16:58:50] \"GET /_dash-component-suites/dash/deps/polyfill@7.v2_1_0m1644801654.12.1.min.js HTTP/1.1\" 200 -\n",
      "127.0.0.1 - - [18/Feb/2022 16:58:50] \"GET /_dash-component-suites/dash/deps/react-dom@16.v2_1_0m1644801654.14.0.min.js HTTP/1.1\" 200 -\n",
      "127.0.0.1 - - [18/Feb/2022 16:58:50] \"GET /_dash-component-suites/dash/deps/prop-types@15.v2_1_0m1644801654.7.2.min.js HTTP/1.1\" 200 -\n",
      "127.0.0.1 - - [18/Feb/2022 16:58:50] \"GET /_dash-component-suites/dash/dash-renderer/build/dash_renderer.v2_1_0m1644801654.min.js HTTP/1.1\" 200 -\n",
      "127.0.0.1 - - [18/Feb/2022 16:58:50] \"GET /_dash-component-suites/dash/dcc/dash_core_components-shared.v2_1_0m1644801654.js HTTP/1.1\" 200 -\n",
      "127.0.0.1 - - [18/Feb/2022 16:58:50] \"GET /_dash-layout HTTP/1.1\" 200 -\n",
      "127.0.0.1 - - [18/Feb/2022 16:58:50] \"GET /_dash-dependencies HTTP/1.1\" 200 -\n",
      "127.0.0.1 - - [18/Feb/2022 16:58:50] \"GET /_dash-component-suites/dash/dcc/async-graph.js HTTP/1.1\" 200 -\n",
      "127.0.0.1 - - [18/Feb/2022 16:58:50] \"\u001b[36mGET /_dash-component-suites/dash/dcc/async-dropdown.js HTTP/1.1\u001b[0m\" 304 -\n",
      "127.0.0.1 - - [18/Feb/2022 16:58:50] \"\u001b[36mGET /_dash-component-suites/dash/dcc/async-plotlyjs.js HTTP/1.1\u001b[0m\" 304 -\n"
     ]
    },
    {
     "name": "stdout",
     "output_type": "stream",
     "text": [
      "selected_cities ['United States', 'Jacksonville FL']\n"
     ]
    },
    {
     "name": "stderr",
     "output_type": "stream",
     "text": [
      "127.0.0.1 - - [18/Feb/2022 16:58:50] \"POST /_dash-update-component HTTP/1.1\" 200 -\n",
      "127.0.0.1 - - [18/Feb/2022 16:58:54] \"POST /_dash-update-component HTTP/1.1\" 200 -\n"
     ]
    },
    {
     "name": "stdout",
     "output_type": "stream",
     "text": [
      "selected_cities ['United States', 'Jacksonville FL', 'Dallas-Fort Worth TX']\n"
     ]
    }
   ],
   "source": [
    "import plotly.express as px\n",
    "from jupyter_dash import JupyterDash\n",
    "from dash import Input, Output, dcc, html\n",
    "import pandas as pd\n",
    "\n",
    "#zillow rent data\n",
    "df = pd.read_csv(\"https://files.zillowstatic.com/research/public_csvs/zori/Metro_ZORI_AllHomesPlusMultifamily_SSA.csv?t=1644973146\")\n",
    "df.drop(columns= [\"RegionID\", \"SizeRank\"], inplace=True)\n",
    "\n",
    "reframe_df = pd.DataFrame(df.set_index(\"RegionName\").stack()).reset_index()\n",
    "reframe_df.columns = [\"RegionName\", \"Date\", \"ZRent\"]\n",
    "reframe_df.RegionName = reframe_df.RegionName.str.replace(\",\", \"\")\n",
    "\n",
    "app = JupyterDash(__name__)\n",
    "del app.config._read_only[\"requests_pathname_prefix\"]\n",
    "\n",
    "app.layout = html.Div([\n",
    "    html.Div(children=[\n",
    "        \n",
    "        html.Br(),\n",
    "        html.Label('Pick Cities to compare'),\n",
    "        dcc.Dropdown(options = reframe_df.RegionName.unique(),\n",
    "                     value = [\"United States\", \"Jacksonville FL\"],\n",
    "                     multi=True, \n",
    "                     id=\"cities_to_graph\"),\n",
    "       \n",
    "    ]),\n",
    "    \n",
    "    html.Div(children=[\n",
    "        \n",
    "        html.Br(),\n",
    "        html.Label('Graph of ZRents'),\n",
    "\n",
    "        dcc.Graph(\n",
    "            id='Zrent',\n",
    "        )]\n",
    "                  )])\n",
    "@app.callback(\n",
    "    Output('Zrent', 'figure'),\n",
    "    Input('cities_to_graph', 'value'))\n",
    "\n",
    "def update_figure(selected_cities):\n",
    "    \n",
    "    print(\"selected_cities\", selected_cities)\n",
    "    if not selected_cities:\n",
    "        selected_cities = [\"United States\"]\n",
    "        \n",
    "    filtered_df = reframe_df[reframe_df.RegionName.isin(selected_cities)]   \n",
    "    fig = px.scatter(filtered_df, x=\"Date\", y=\"ZRent\", color=\"RegionName\", hover_name=\"RegionName\")\n",
    "\n",
    "    fig.update_layout(transition_duration=500)\n",
    "\n",
    "    return fig\n",
    "    \n",
    "if __name__ == '__main__':\n",
    "    app.run_server(debug=False)"
   ]
  }
 ],
 "metadata": {
  "kernelspec": {
   "display_name": "Python 3 (ipykernel)",
   "language": "python",
   "name": "python3"
  },
  "language_info": {
   "codemirror_mode": {
    "name": "ipython",
    "version": 3
   },
   "file_extension": ".py",
   "mimetype": "text/x-python",
   "name": "python",
   "nbconvert_exporter": "python",
   "pygments_lexer": "ipython3",
   "version": "3.8.2"
  }
 },
 "nbformat": 4,
 "nbformat_minor": 5
}
