{
 "cells": [
  {
   "cell_type": "code",
   "execution_count": 4,
   "id": "e996b240-bcf5-4956-b7a1-bc58100e1a05",
   "metadata": {},
   "outputs": [
    {
     "name": "stderr",
     "output_type": "stream",
     "text": [
      "/Users/nelsonlin/conrex_env/lib/python3.8/site-packages/openpyxl/styles/stylesheet.py:226: UserWarning: Workbook contains no default style, apply openpyxl's default\n",
      "  warn(\"Workbook contains no default style, apply openpyxl's default\")\n"
     ]
    }
   ],
   "source": [
    "import pandas as pd\n",
    "tax_df = pd.read_excel(\"National Taxes - Multifamily (2).xlsx\")"
   ]
  },
  {
   "cell_type": "code",
   "execution_count": 11,
   "id": "eb57c24d-645f-4c10-850d-74536c18e52a",
   "metadata": {},
   "outputs": [
    {
     "data": {
      "text/plain": [
       "Index(['Tax Year', 'Primary Site Class', 'Site State Name', 'Site City',\n",
       "       'Assessor(s)', 'Site Name', 'Site Year Built', 'Site Units',\n",
       "       'Site Square Footage', 'Current AV', 'Eff Rate', 'Tax'],\n",
       "      dtype='object')"
      ]
     },
     "execution_count": 11,
     "metadata": {},
     "output_type": "execute_result"
    }
   ],
   "source": [
    "tax_df.columns"
   ]
  },
  {
   "cell_type": "code",
   "execution_count": 22,
   "id": "1dd009c7-9de1-41db-8a0c-480f3635e066",
   "metadata": {},
   "outputs": [],
   "source": [
    "tax_df[tax_df[\"Eff Rate\"] > 0].groupby([\"Site State Name\", \"Site City\"]).agg([\"mean\", \"median\"]).sort_values((\"Eff Rate\", \"mean\")).to_csv(\"multifamily_data.csv\")"
   ]
  },
  {
   "cell_type": "code",
   "execution_count": null,
   "id": "7bcb0d7e-a67b-4a42-8d4b-1453da98ddf4",
   "metadata": {},
   "outputs": [],
   "source": []
  }
 ],
 "metadata": {
  "kernelspec": {
   "display_name": "Python 3 (ipykernel)",
   "language": "python",
   "name": "python3"
  },
  "language_info": {
   "codemirror_mode": {
    "name": "ipython",
    "version": 3
   },
   "file_extension": ".py",
   "mimetype": "text/x-python",
   "name": "python",
   "nbconvert_exporter": "python",
   "pygments_lexer": "ipython3",
   "version": "3.8.9"
  }
 },
 "nbformat": 4,
 "nbformat_minor": 5
}
