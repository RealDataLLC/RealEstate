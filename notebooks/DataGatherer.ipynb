{
 "cells": [
  {
   "cell_type": "code",
   "execution_count": 2,
   "metadata": {
    "ExecuteTime": {
     "end_time": "2020-03-29T04:57:27.106353Z",
     "start_time": "2020-03-29T04:57:27.102807Z"
    }
   },
   "outputs": [],
   "source": [
    "from bs4 import BeautifulSoup\n",
    "import pandas as pd\n",
    "import requests\n"
   ]
  },
  {
   "cell_type": "markdown",
   "metadata": {},
   "source": [
    "Get Jobs Numbers from the metros"
   ]
  },
  {
   "cell_type": "code",
   "execution_count": 29,
   "metadata": {
    "ExecuteTime": {
     "end_time": "2020-03-29T06:19:18.798697Z",
     "start_time": "2020-03-29T06:19:18.781715Z"
    }
   },
   "outputs": [],
   "source": [
    "class DeptOfNumbersData:\n",
    "    def __init__(self):\n",
    "        self.dept_numbers_path = \"https://www.deptofnumbers.com/\"\n",
    "        self.dn_jobs_path = \"employment/metros/\"\n",
    "        self.get_soup()\n",
    "        self.get_month()\n",
    "        \n",
    "    def get_soup(self):       \n",
    "        page = requests.get(self.dept_numbers_path + self.dn_jobs_path)\n",
    "        soup = BeautifulSoup(page.text, 'html.parser')\n",
    "        self.soup = soup\n",
    "        \n",
    "    def get_month(self):\n",
    "        table = self.soup.find('table', {'id': 'metro_table'})\n",
    "        table_rows = table.find_all('th')\n",
    "        self.month = table_rows[1].text[:-16]\n",
    "\n",
    "    def get_jobs_numbers(self, write_csv = False):\n",
    "        table = self.soup.find('table', {'id': 'metro_table'})\n",
    "        table_rows = table.find_all('tr')\n",
    "\n",
    "        l = self.get_table(table_rows)\n",
    "        \n",
    "        df = pd.DataFrame(l,columns=[\"Metro\",\"Month Growth\", \"Month Growth (%)\", \"Year Growth\", \"Year Growth (%)\"]).drop(0)\n",
    "        df = df.sort_values(by=\"Year Growth (%)\", ascending=False)\n",
    "        \n",
    "        if (write_csv):\n",
    "            test = self.month + \".csv\"\n",
    "            df.to_csv(\"JobsData/\" + test)\n",
    "            \n",
    "        self.jobs_numbers = df\n",
    "        return df\n",
    "\n",
    "    \n",
    "    @staticmethod\n",
    "    def get_table(table_rows):\n",
    "        l = []\n",
    "        for tr in table_rows:\n",
    "            td = tr.find_all('td')\n",
    "            row = [tr.text.strip(\" %\") for tr in td if tr.text.strip()]\n",
    "            l.append(row)\n",
    "        return l\n",
    "    \n",
    "    def find_city(self, city_name):\n",
    "        cityName = city_name.lower()\n",
    "        metroNames = self.jobs_numbers[\"Metro\"].str.lower()\n",
    "        return self.jobs_numbers[metroNames.str.contains(city_name)]"
   ]
  },
  {
   "cell_type": "code",
   "execution_count": 30,
   "metadata": {
    "ExecuteTime": {
     "end_time": "2020-03-29T06:19:24.424834Z",
     "start_time": "2020-03-29T06:19:23.324821Z"
    }
   },
   "outputs": [
    {
     "data": {
      "text/html": [
       "<div>\n",
       "<style scoped>\n",
       "    .dataframe tbody tr th:only-of-type {\n",
       "        vertical-align: middle;\n",
       "    }\n",
       "\n",
       "    .dataframe tbody tr th {\n",
       "        vertical-align: top;\n",
       "    }\n",
       "\n",
       "    .dataframe thead th {\n",
       "        text-align: right;\n",
       "    }\n",
       "</style>\n",
       "<table border=\"1\" class=\"dataframe\">\n",
       "  <thead>\n",
       "    <tr style=\"text-align: right;\">\n",
       "      <th></th>\n",
       "      <th>Metro</th>\n",
       "      <th>Month Growth</th>\n",
       "      <th>Month Growth (%)</th>\n",
       "      <th>Year Growth</th>\n",
       "      <th>Year Growth (%)</th>\n",
       "    </tr>\n",
       "  </thead>\n",
       "  <tbody>\n",
       "    <tr>\n",
       "      <td>317</td>\n",
       "      <td>Yuba City, CA</td>\n",
       "      <td>200</td>\n",
       "      <td>0.41</td>\n",
       "      <td>3,800</td>\n",
       "      <td>8.39</td>\n",
       "    </tr>\n",
       "    <tr>\n",
       "      <td>62</td>\n",
       "      <td>Cleveland, TN</td>\n",
       "      <td>200</td>\n",
       "      <td>0.40</td>\n",
       "      <td>2,500</td>\n",
       "      <td>5.27</td>\n",
       "    </tr>\n",
       "    <tr>\n",
       "      <td>282</td>\n",
       "      <td>State College, PA</td>\n",
       "      <td>3,000</td>\n",
       "      <td>3.73</td>\n",
       "      <td>3,100</td>\n",
       "      <td>3.86</td>\n",
       "    </tr>\n",
       "    <tr>\n",
       "      <td>279</td>\n",
       "      <td>St George, UT</td>\n",
       "      <td>300</td>\n",
       "      <td>0.42</td>\n",
       "      <td>2,500</td>\n",
       "      <td>3.59</td>\n",
       "    </tr>\n",
       "    <tr>\n",
       "      <td>236</td>\n",
       "      <td>Provo, UT</td>\n",
       "      <td>200</td>\n",
       "      <td>0.07</td>\n",
       "      <td>9,300</td>\n",
       "      <td>3.48</td>\n",
       "    </tr>\n",
       "    <tr>\n",
       "      <td>21</td>\n",
       "      <td>Austin, TX</td>\n",
       "      <td>1,400</td>\n",
       "      <td>0.12</td>\n",
       "      <td>38,100</td>\n",
       "      <td>3.47</td>\n",
       "    </tr>\n",
       "    <tr>\n",
       "      <td>256</td>\n",
       "      <td>Salt Lake City, UT</td>\n",
       "      <td>1,700</td>\n",
       "      <td>0.22</td>\n",
       "      <td>25,600</td>\n",
       "      <td>3.45</td>\n",
       "    </tr>\n",
       "    <tr>\n",
       "      <td>65</td>\n",
       "      <td>College Station, TX</td>\n",
       "      <td>800</td>\n",
       "      <td>0.64</td>\n",
       "      <td>4,100</td>\n",
       "      <td>3.39</td>\n",
       "    </tr>\n",
       "    <tr>\n",
       "      <td>129</td>\n",
       "      <td>Hinesville, GA</td>\n",
       "      <td>200</td>\n",
       "      <td>0.93</td>\n",
       "      <td>700</td>\n",
       "      <td>3.32</td>\n",
       "    </tr>\n",
       "    <tr>\n",
       "      <td>228</td>\n",
       "      <td>Phoenix, AZ</td>\n",
       "      <td>1,500</td>\n",
       "      <td>0.07</td>\n",
       "      <td>70,600</td>\n",
       "      <td>3.29</td>\n",
       "    </tr>\n",
       "    <tr>\n",
       "      <td>37</td>\n",
       "      <td>Boise City, ID</td>\n",
       "      <td>600</td>\n",
       "      <td>0.17</td>\n",
       "      <td>11,000</td>\n",
       "      <td>3.24</td>\n",
       "    </tr>\n",
       "    <tr>\n",
       "      <td>139</td>\n",
       "      <td>Jacksonville, FL</td>\n",
       "      <td>5,000</td>\n",
       "      <td>0.68</td>\n",
       "      <td>23,100</td>\n",
       "      <td>3.22</td>\n",
       "    </tr>\n",
       "    <tr>\n",
       "      <td>101</td>\n",
       "      <td>Fayetteville, AR</td>\n",
       "      <td>900</td>\n",
       "      <td>0.34</td>\n",
       "      <td>8,200</td>\n",
       "      <td>3.14</td>\n",
       "    </tr>\n",
       "    <tr>\n",
       "      <td>107</td>\n",
       "      <td>Fort Collins, CO</td>\n",
       "      <td>400</td>\n",
       "      <td>0.22</td>\n",
       "      <td>5,400</td>\n",
       "      <td>3.12</td>\n",
       "    </tr>\n",
       "    <tr>\n",
       "      <td>75</td>\n",
       "      <td>Dallas, TX</td>\n",
       "      <td>3,300</td>\n",
       "      <td>0.09</td>\n",
       "      <td>115,800</td>\n",
       "      <td>3.10</td>\n",
       "    </tr>\n",
       "  </tbody>\n",
       "</table>\n",
       "</div>"
      ],
      "text/plain": [
       "                    Metro Month Growth Month Growth (%) Year Growth  \\\n",
       "317         Yuba City, CA          200             0.41       3,800   \n",
       "62          Cleveland, TN          200             0.40       2,500   \n",
       "282     State College, PA        3,000             3.73       3,100   \n",
       "279         St George, UT          300             0.42       2,500   \n",
       "236             Provo, UT          200             0.07       9,300   \n",
       "21             Austin, TX        1,400             0.12      38,100   \n",
       "256    Salt Lake City, UT        1,700             0.22      25,600   \n",
       "65    College Station, TX          800             0.64       4,100   \n",
       "129        Hinesville, GA          200             0.93         700   \n",
       "228           Phoenix, AZ        1,500             0.07      70,600   \n",
       "37         Boise City, ID          600             0.17      11,000   \n",
       "139      Jacksonville, FL        5,000             0.68      23,100   \n",
       "101      Fayetteville, AR          900             0.34       8,200   \n",
       "107      Fort Collins, CO          400             0.22       5,400   \n",
       "75             Dallas, TX        3,300             0.09     115,800   \n",
       "\n",
       "    Year Growth (%)  \n",
       "317            8.39  \n",
       "62             5.27  \n",
       "282            3.86  \n",
       "279            3.59  \n",
       "236            3.48  \n",
       "21             3.47  \n",
       "256            3.45  \n",
       "65             3.39  \n",
       "129            3.32  \n",
       "228            3.29  \n",
       "37             3.24  \n",
       "139            3.22  \n",
       "101            3.14  \n",
       "107            3.12  \n",
       "75             3.10  "
      ]
     },
     "execution_count": 30,
     "metadata": {},
     "output_type": "execute_result"
    }
   ],
   "source": [
    "dept = DeptOfNumbersData()\n",
    "dept.get_soup()\n",
    "\n",
    "df = dept.get_jobs_numbers(write_csv=True)\n",
    "df[df[\"Year Growth (%)\"].astype(float) > 3]"
   ]
  },
  {
   "cell_type": "code",
   "execution_count": 28,
   "metadata": {
    "ExecuteTime": {
     "end_time": "2020-03-29T06:14:50.940446Z",
     "start_time": "2020-03-29T06:14:50.931494Z"
    }
   },
   "outputs": [
    {
     "data": {
      "text/plain": [
       "'January 2020'"
      ]
     },
     "execution_count": 28,
     "metadata": {},
     "output_type": "execute_result"
    }
   ],
   "source": []
  },
  {
   "cell_type": "code",
   "execution_count": 5,
   "metadata": {
    "ExecuteTime": {
     "end_time": "2020-03-29T04:59:26.590311Z",
     "start_time": "2020-03-29T04:59:26.575860Z"
    }
   },
   "outputs": [
    {
     "data": {
      "text/html": [
       "<div>\n",
       "<style scoped>\n",
       "    .dataframe tbody tr th:only-of-type {\n",
       "        vertical-align: middle;\n",
       "    }\n",
       "\n",
       "    .dataframe tbody tr th {\n",
       "        vertical-align: top;\n",
       "    }\n",
       "\n",
       "    .dataframe thead th {\n",
       "        text-align: right;\n",
       "    }\n",
       "</style>\n",
       "<table border=\"1\" class=\"dataframe\">\n",
       "  <thead>\n",
       "    <tr style=\"text-align: right;\">\n",
       "      <th></th>\n",
       "      <th>Metro</th>\n",
       "      <th>Month Growth</th>\n",
       "      <th>Month Growth (%)</th>\n",
       "      <th>Year Growth</th>\n",
       "      <th>Year Growth (%)</th>\n",
       "    </tr>\n",
       "  </thead>\n",
       "  <tbody>\n",
       "    <tr>\n",
       "      <td>287</td>\n",
       "      <td>Tampa, FL</td>\n",
       "      <td>9,800</td>\n",
       "      <td>0.70</td>\n",
       "      <td>40,600</td>\n",
       "      <td>2.96</td>\n",
       "    </tr>\n",
       "  </tbody>\n",
       "</table>\n",
       "</div>"
      ],
      "text/plain": [
       "          Metro Month Growth Month Growth (%) Year Growth Year Growth (%)\n",
       "287   Tampa, FL        9,800             0.70      40,600            2.96"
      ]
     },
     "execution_count": 5,
     "metadata": {},
     "output_type": "execute_result"
    }
   ],
   "source": [
    "dept.find_city(\"tampa\")"
   ]
  },
  {
   "cell_type": "code",
   "execution_count": null,
   "metadata": {},
   "outputs": [],
   "source": []
  },
  {
   "cell_type": "code",
   "execution_count": null,
   "metadata": {},
   "outputs": [],
   "source": [
    "api.census.gov/data/2018/acs/acs1?get=NAME,group(B01001)&for=us:1&key=YOUR_KEY_GOES_HERE"
   ]
  }
 ],
 "metadata": {
  "kernelspec": {
   "display_name": "Python 3",
   "language": "python",
   "name": "python3"
  },
  "language_info": {
   "codemirror_mode": {
    "name": "ipython",
    "version": 3
   },
   "file_extension": ".py",
   "mimetype": "text/x-python",
   "name": "python",
   "nbconvert_exporter": "python",
   "pygments_lexer": "ipython3",
   "version": "3.6.9"
  },
  "varInspector": {
   "cols": {
    "lenName": 16,
    "lenType": 16,
    "lenVar": 40
   },
   "kernels_config": {
    "python": {
     "delete_cmd_postfix": "",
     "delete_cmd_prefix": "del ",
     "library": "var_list.py",
     "varRefreshCmd": "print(var_dic_list())"
    },
    "r": {
     "delete_cmd_postfix": ") ",
     "delete_cmd_prefix": "rm(",
     "library": "var_list.r",
     "varRefreshCmd": "cat(var_dic_list()) "
    }
   },
   "types_to_exclude": [
    "module",
    "function",
    "builtin_function_or_method",
    "instance",
    "_Feature"
   ],
   "window_display": false
  }
 },
 "nbformat": 4,
 "nbformat_minor": 4
}
